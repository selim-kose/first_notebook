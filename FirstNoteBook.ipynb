{
 "cells": [
  {
   "cell_type": "markdown",
   "id": "207ac0ff-7b0d-430c-8480-de20c71da9c4",
   "metadata": {},
   "source": [
    "## H2 Heading in Markdown"
   ]
  },
  {
   "cell_type": "code",
   "execution_count": 5,
   "id": "1ccee837-ced1-4384-a922-6eb242b1ff8c",
   "metadata": {},
   "outputs": [],
   "source": [
    "import camelot as cm"
   ]
  },
  {
   "cell_type": "code",
   "execution_count": 43,
   "id": "bfb15917-f128-4563-a84b-ca24b74718ba",
   "metadata": {},
   "outputs": [],
   "source": [
    "import pandas"
   ]
  },
  {
   "cell_type": "code",
   "execution_count": 45,
   "id": "6b8c6645-59bf-4728-85b1-f65cbdbe2909",
   "metadata": {},
   "outputs": [],
   "source": [
    "import seaborn"
   ]
  },
  {
   "cell_type": "markdown",
   "id": "6231af39-4187-4bee-8ac0-cd5339650b2d",
   "metadata": {},
   "source": [
    "---"
   ]
  },
  {
   "cell_type": "markdown",
   "id": "5bfb23da-0f91-4da2-91da-453302b7bdd4",
   "metadata": {},
   "source": [
    "---"
   ]
  },
  {
   "cell_type": "markdown",
   "id": "f1f26a6c-b680-4312-8940-6cd6a0883be5",
   "metadata": {},
   "source": [
    "> this is a block quote"
   ]
  },
  {
   "cell_type": "markdown",
   "id": "5be563ae-12d2-423e-87dd-c030795449a2",
   "metadata": {},
   "source": [
    "![alt text](https://techcrunch.com/wp-content/uploads/2015/04/codecode.jpg?resize=1200,800)"
   ]
  },
  {
   "cell_type": "code",
   "execution_count": 6,
   "id": "cbf1b3db-4d37-4027-831e-72d6f3339aa8",
   "metadata": {},
   "outputs": [
    {
     "name": "stdout",
     "output_type": "stream",
     "text": [
      " Volume in drive C is Windows-SSD\n",
      " Volume Serial Number is 88EE-3E94\n",
      "\n",
      " Directory of C:\\Users\\selim\\ws\\python\\jupyter\n",
      "\n",
      "2024-07-15  11:41    <DIR>          .\n",
      "2024-07-14  08:33    <DIR>          ..\n",
      "2024-07-14  08:40    <DIR>          .ipynb_checkpoints\n",
      "2024-07-15  11:41            14ÿ108 FirstNoteBook.ipynb\n",
      "2024-07-15  09:57            66ÿ887 table.pdf\n",
      "               2 File(s)         80ÿ995 bytes\n",
      "               3 Dir(s)  45ÿ350ÿ100ÿ992 bytes free\n"
     ]
    }
   ],
   "source": [
    " ls"
   ]
  },
  {
   "cell_type": "code",
   "execution_count": 7,
   "id": "7b26fb49-2d49-4b23-8770-89344a801f21",
   "metadata": {},
   "outputs": [],
   "source": [
    "names = [\"selim\", \"eve\"]"
   ]
  },
  {
   "cell_type": "code",
   "execution_count": 8,
   "id": "42bad814-7422-4f2d-b81c-f4b0c6058b83",
   "metadata": {},
   "outputs": [
    {
     "name": "stdout",
     "output_type": "stream",
     "text": [
      "selim\n",
      "eve\n"
     ]
    }
   ],
   "source": [
    "for n in names:\n",
    "    print(n)"
   ]
  },
  {
   "cell_type": "code",
   "execution_count": 11,
   "id": "3639c4b7-23af-4aee-9f11-515ddc796549",
   "metadata": {},
   "outputs": [],
   "source": [
    "input_PDF = cm.read_pdf(\"table.pdf\", flavor=\"lattice\", pages=\"1\")"
   ]
  },
  {
   "cell_type": "code",
   "execution_count": 14,
   "id": "11896234-17da-4568-9528-91bef3b82c60",
   "metadata": {},
   "outputs": [
    {
     "name": "stdout",
     "output_type": "stream",
     "text": [
      "<Table shape=(6, 6)>\n"
     ]
    }
   ],
   "source": [
    "for n in input_PDF:\n",
    "    print(n)"
   ]
  },
  {
   "cell_type": "code",
   "execution_count": 15,
   "id": "3d476be5-6950-4950-bb4d-24c41a2511a0",
   "metadata": {},
   "outputs": [
    {
     "name": "stdout",
     "output_type": "stream",
     "text": [
      "                       0             1                    2  \\\n",
      "0  Disability \\nCategory  Participants  Ballots \\nCompleted   \n",
      "1                                                             \n",
      "2                  Blind             5                    1   \n",
      "3             Low Vision             5                    2   \n",
      "4              Dexterity             5                    4   \n",
      "5               Mobility             3                    3   \n",
      "\n",
      "                                    3                         4  \\\n",
      "0  Ballots \\nIncomplete/ \\nTerminated                   Results   \n",
      "1                                                      Accuracy   \n",
      "2                                   4                34.5%, n=1   \n",
      "3                                   3  98.3% n=2 \\n(97.7%, n=3)   \n",
      "4                                   1                98.3%, n=4   \n",
      "5                                   0                95.4%, n=3   \n",
      "\n",
      "                                 5  \n",
      "0                                   \n",
      "1               Time to \\ncomplete  \n",
      "2                    1199 sec, n=1  \n",
      "3  1716 sec, n=3 \\n(1934 sec, n=2)  \n",
      "4                  1672.1 sec, n=4  \n",
      "5                    1416 sec, n=3  \n"
     ]
    }
   ],
   "source": [
    "for n in input_PDF:\n",
    "    print(n.df)"
   ]
  },
  {
   "cell_type": "code",
   "execution_count": 18,
   "id": "4efb0747-2be9-40d4-b3b5-9776d854c007",
   "metadata": {},
   "outputs": [
    {
     "name": "stdout",
     "output_type": "stream",
     "text": [
      "<TableList n=1>\n"
     ]
    }
   ],
   "source": [
    "print(input_PDF)"
   ]
  },
  {
   "cell_type": "markdown",
   "id": "3fb1ac1b-b35a-41a0-abab-9445d4730355",
   "metadata": {},
   "source": [
    "---"
   ]
  },
  {
   "cell_type": "markdown",
   "id": "c3e7b5c1-ea7a-403e-a2e1-86e07c711aa8",
   "metadata": {},
   "source": [
    "## print all rows and columns"
   ]
  },
  {
   "cell_type": "code",
   "execution_count": 17,
   "id": "bc73f4f6-2c9a-4d33-aa4d-3d2836e5b1d0",
   "metadata": {},
   "outputs": [
    {
     "data": {
      "text/html": [
       "<div>\n",
       "<style scoped>\n",
       "    .dataframe tbody tr th:only-of-type {\n",
       "        vertical-align: middle;\n",
       "    }\n",
       "\n",
       "    .dataframe tbody tr th {\n",
       "        vertical-align: top;\n",
       "    }\n",
       "\n",
       "    .dataframe thead th {\n",
       "        text-align: right;\n",
       "    }\n",
       "</style>\n",
       "<table border=\"1\" class=\"dataframe\">\n",
       "  <thead>\n",
       "    <tr style=\"text-align: right;\">\n",
       "      <th></th>\n",
       "      <th>0</th>\n",
       "      <th>1</th>\n",
       "      <th>2</th>\n",
       "      <th>3</th>\n",
       "      <th>4</th>\n",
       "      <th>5</th>\n",
       "    </tr>\n",
       "  </thead>\n",
       "  <tbody>\n",
       "    <tr>\n",
       "      <th>0</th>\n",
       "      <td>Disability \\nCategory</td>\n",
       "      <td>Participants</td>\n",
       "      <td>Ballots \\nCompleted</td>\n",
       "      <td>Ballots \\nIncomplete/ \\nTerminated</td>\n",
       "      <td>Results</td>\n",
       "      <td></td>\n",
       "    </tr>\n",
       "    <tr>\n",
       "      <th>1</th>\n",
       "      <td></td>\n",
       "      <td></td>\n",
       "      <td></td>\n",
       "      <td></td>\n",
       "      <td>Accuracy</td>\n",
       "      <td>Time to \\ncomplete</td>\n",
       "    </tr>\n",
       "    <tr>\n",
       "      <th>2</th>\n",
       "      <td>Blind</td>\n",
       "      <td>5</td>\n",
       "      <td>1</td>\n",
       "      <td>4</td>\n",
       "      <td>34.5%, n=1</td>\n",
       "      <td>1199 sec, n=1</td>\n",
       "    </tr>\n",
       "    <tr>\n",
       "      <th>3</th>\n",
       "      <td>Low Vision</td>\n",
       "      <td>5</td>\n",
       "      <td>2</td>\n",
       "      <td>3</td>\n",
       "      <td>98.3% n=2 \\n(97.7%, n=3)</td>\n",
       "      <td>1716 sec, n=3 \\n(1934 sec, n=2)</td>\n",
       "    </tr>\n",
       "    <tr>\n",
       "      <th>4</th>\n",
       "      <td>Dexterity</td>\n",
       "      <td>5</td>\n",
       "      <td>4</td>\n",
       "      <td>1</td>\n",
       "      <td>98.3%, n=4</td>\n",
       "      <td>1672.1 sec, n=4</td>\n",
       "    </tr>\n",
       "    <tr>\n",
       "      <th>5</th>\n",
       "      <td>Mobility</td>\n",
       "      <td>3</td>\n",
       "      <td>3</td>\n",
       "      <td>0</td>\n",
       "      <td>95.4%, n=3</td>\n",
       "      <td>1416 sec, n=3</td>\n",
       "    </tr>\n",
       "  </tbody>\n",
       "</table>\n",
       "</div>"
      ],
      "text/plain": [
       "                       0             1                    2  \\\n",
       "0  Disability \\nCategory  Participants  Ballots \\nCompleted   \n",
       "1                                                             \n",
       "2                  Blind             5                    1   \n",
       "3             Low Vision             5                    2   \n",
       "4              Dexterity             5                    4   \n",
       "5               Mobility             3                    3   \n",
       "\n",
       "                                    3                         4  \\\n",
       "0  Ballots \\nIncomplete/ \\nTerminated                   Results   \n",
       "1                                                      Accuracy   \n",
       "2                                   4                34.5%, n=1   \n",
       "3                                   3  98.3% n=2 \\n(97.7%, n=3)   \n",
       "4                                   1                98.3%, n=4   \n",
       "5                                   0                95.4%, n=3   \n",
       "\n",
       "                                 5  \n",
       "0                                   \n",
       "1               Time to \\ncomplete  \n",
       "2                    1199 sec, n=1  \n",
       "3  1716 sec, n=3 \\n(1934 sec, n=2)  \n",
       "4                  1672.1 sec, n=4  \n",
       "5                    1416 sec, n=3  "
      ]
     },
     "execution_count": 17,
     "metadata": {},
     "output_type": "execute_result"
    }
   ],
   "source": [
    "input_PDF[0].df"
   ]
  },
  {
   "cell_type": "markdown",
   "id": "d6b077d0-29ff-4bf8-8b2e-6dff27ace138",
   "metadata": {},
   "source": [
    "---"
   ]
  },
  {
   "cell_type": "markdown",
   "id": "0ebd20ac-e94a-4fe3-8cac-a06a97ad5fb9",
   "metadata": {},
   "source": [
    "## print rows 4 to 5 and columns 0 to 5"
   ]
  },
  {
   "cell_type": "code",
   "execution_count": 27,
   "id": "ac12dc88-432f-4ae2-9f40-fa98ede92ef5",
   "metadata": {},
   "outputs": [],
   "source": [
    "df = input_PDF[0].df.loc[4:5, 0:5]"
   ]
  },
  {
   "cell_type": "code",
   "execution_count": 28,
   "id": "00f541df-712e-4886-89a1-464e873e1d90",
   "metadata": {},
   "outputs": [
    {
     "data": {
      "text/html": [
       "<div>\n",
       "<style scoped>\n",
       "    .dataframe tbody tr th:only-of-type {\n",
       "        vertical-align: middle;\n",
       "    }\n",
       "\n",
       "    .dataframe tbody tr th {\n",
       "        vertical-align: top;\n",
       "    }\n",
       "\n",
       "    .dataframe thead th {\n",
       "        text-align: right;\n",
       "    }\n",
       "</style>\n",
       "<table border=\"1\" class=\"dataframe\">\n",
       "  <thead>\n",
       "    <tr style=\"text-align: right;\">\n",
       "      <th></th>\n",
       "      <th>0</th>\n",
       "      <th>1</th>\n",
       "      <th>2</th>\n",
       "      <th>3</th>\n",
       "      <th>4</th>\n",
       "      <th>5</th>\n",
       "    </tr>\n",
       "  </thead>\n",
       "  <tbody>\n",
       "    <tr>\n",
       "      <th>4</th>\n",
       "      <td>Dexterity</td>\n",
       "      <td>5</td>\n",
       "      <td>4</td>\n",
       "      <td>1</td>\n",
       "      <td>98.3%, n=4</td>\n",
       "      <td>1672.1 sec, n=4</td>\n",
       "    </tr>\n",
       "    <tr>\n",
       "      <th>5</th>\n",
       "      <td>Mobility</td>\n",
       "      <td>3</td>\n",
       "      <td>3</td>\n",
       "      <td>0</td>\n",
       "      <td>95.4%, n=3</td>\n",
       "      <td>1416 sec, n=3</td>\n",
       "    </tr>\n",
       "  </tbody>\n",
       "</table>\n",
       "</div>"
      ],
      "text/plain": [
       "           0  1  2  3           4                5\n",
       "4  Dexterity  5  4  1  98.3%, n=4  1672.1 sec, n=4\n",
       "5   Mobility  3  3  0  95.4%, n=3    1416 sec, n=3"
      ]
     },
     "execution_count": 28,
     "metadata": {},
     "output_type": "execute_result"
    }
   ],
   "source": [
    "df"
   ]
  },
  {
   "cell_type": "markdown",
   "id": "1503a1e3-f1bb-4ed1-a006-cf0da016ed87",
   "metadata": {},
   "source": [
    "---"
   ]
  },
  {
   "cell_type": "markdown",
   "id": "74355c1e-d737-43df-92b7-3550f1dc42a1",
   "metadata": {},
   "source": [
    "## format numbering for rows and columns"
   ]
  },
  {
   "cell_type": "code",
   "execution_count": 30,
   "id": "5c4e600c-b335-4eb9-befb-18ec41b62617",
   "metadata": {},
   "outputs": [],
   "source": [
    "df = df.reset_index(drop = True)"
   ]
  },
  {
   "cell_type": "code",
   "execution_count": 31,
   "id": "938fac77-fd27-40cb-a54a-ded9cae802e6",
   "metadata": {},
   "outputs": [
    {
     "data": {
      "text/html": [
       "<div>\n",
       "<style scoped>\n",
       "    .dataframe tbody tr th:only-of-type {\n",
       "        vertical-align: middle;\n",
       "    }\n",
       "\n",
       "    .dataframe tbody tr th {\n",
       "        vertical-align: top;\n",
       "    }\n",
       "\n",
       "    .dataframe thead th {\n",
       "        text-align: right;\n",
       "    }\n",
       "</style>\n",
       "<table border=\"1\" class=\"dataframe\">\n",
       "  <thead>\n",
       "    <tr style=\"text-align: right;\">\n",
       "      <th></th>\n",
       "      <th>0</th>\n",
       "      <th>1</th>\n",
       "      <th>2</th>\n",
       "      <th>3</th>\n",
       "      <th>4</th>\n",
       "      <th>5</th>\n",
       "    </tr>\n",
       "  </thead>\n",
       "  <tbody>\n",
       "    <tr>\n",
       "      <th>0</th>\n",
       "      <td>Dexterity</td>\n",
       "      <td>5</td>\n",
       "      <td>4</td>\n",
       "      <td>1</td>\n",
       "      <td>98.3%, n=4</td>\n",
       "      <td>1672.1 sec, n=4</td>\n",
       "    </tr>\n",
       "    <tr>\n",
       "      <th>1</th>\n",
       "      <td>Mobility</td>\n",
       "      <td>3</td>\n",
       "      <td>3</td>\n",
       "      <td>0</td>\n",
       "      <td>95.4%, n=3</td>\n",
       "      <td>1416 sec, n=3</td>\n",
       "    </tr>\n",
       "  </tbody>\n",
       "</table>\n",
       "</div>"
      ],
      "text/plain": [
       "           0  1  2  3           4                5\n",
       "0  Dexterity  5  4  1  98.3%, n=4  1672.1 sec, n=4\n",
       "1   Mobility  3  3  0  95.4%, n=3    1416 sec, n=3"
      ]
     },
     "execution_count": 31,
     "metadata": {},
     "output_type": "execute_result"
    }
   ],
   "source": [
    "df"
   ]
  },
  {
   "cell_type": "code",
   "execution_count": 32,
   "id": "a762652e-61c6-4950-b3e2-e90d27831f5a",
   "metadata": {},
   "outputs": [],
   "source": [
    "df.columns = [\"Disability Category\", \" Participants\", \"Ballots Completed\", \"Ballots Incomplete\", \"Accuracy\", \"Time to Complete\"]"
   ]
  },
  {
   "cell_type": "code",
   "execution_count": 33,
   "id": "5f810e77-beee-415f-932b-3a337b9cd034",
   "metadata": {},
   "outputs": [
    {
     "data": {
      "text/html": [
       "<div>\n",
       "<style scoped>\n",
       "    .dataframe tbody tr th:only-of-type {\n",
       "        vertical-align: middle;\n",
       "    }\n",
       "\n",
       "    .dataframe tbody tr th {\n",
       "        vertical-align: top;\n",
       "    }\n",
       "\n",
       "    .dataframe thead th {\n",
       "        text-align: right;\n",
       "    }\n",
       "</style>\n",
       "<table border=\"1\" class=\"dataframe\">\n",
       "  <thead>\n",
       "    <tr style=\"text-align: right;\">\n",
       "      <th></th>\n",
       "      <th>Disability Category</th>\n",
       "      <th>Participants</th>\n",
       "      <th>Ballots Completed</th>\n",
       "      <th>Ballots Incomplete</th>\n",
       "      <th>Accuracy</th>\n",
       "      <th>Time to Complete</th>\n",
       "    </tr>\n",
       "  </thead>\n",
       "  <tbody>\n",
       "    <tr>\n",
       "      <th>0</th>\n",
       "      <td>Dexterity</td>\n",
       "      <td>5</td>\n",
       "      <td>4</td>\n",
       "      <td>1</td>\n",
       "      <td>98.3%, n=4</td>\n",
       "      <td>1672.1 sec, n=4</td>\n",
       "    </tr>\n",
       "    <tr>\n",
       "      <th>1</th>\n",
       "      <td>Mobility</td>\n",
       "      <td>3</td>\n",
       "      <td>3</td>\n",
       "      <td>0</td>\n",
       "      <td>95.4%, n=3</td>\n",
       "      <td>1416 sec, n=3</td>\n",
       "    </tr>\n",
       "  </tbody>\n",
       "</table>\n",
       "</div>"
      ],
      "text/plain": [
       "  Disability Category  Participants Ballots Completed Ballots Incomplete  \\\n",
       "0           Dexterity             5                 4                  1   \n",
       "1            Mobility             3                 3                  0   \n",
       "\n",
       "     Accuracy Time to Complete  \n",
       "0  98.3%, n=4  1672.1 sec, n=4  \n",
       "1  95.4%, n=3    1416 sec, n=3  "
      ]
     },
     "execution_count": 33,
     "metadata": {},
     "output_type": "execute_result"
    }
   ],
   "source": [
    "df"
   ]
  },
  {
   "cell_type": "markdown",
   "id": "59f271d8-2c88-4b0e-ae56-21d8a6352683",
   "metadata": {},
   "source": [
    "---"
   ]
  },
  {
   "cell_type": "markdown",
   "id": "de2bfc59-91b9-41c1-a978-74eb45a1675a",
   "metadata": {},
   "source": [
    "## Convert data to CSV-file"
   ]
  },
  {
   "cell_type": "code",
   "execution_count": 37,
   "id": "f7ea5eff-e6de-4b0c-a657-d3a3d277e871",
   "metadata": {},
   "outputs": [],
   "source": [
    "df.to_csv(\"table.csv\")"
   ]
  },
  {
   "cell_type": "code",
   "execution_count": 38,
   "id": "1734a4bb-3412-4cb3-abda-ec77851459dc",
   "metadata": {},
   "outputs": [
    {
     "name": "stdout",
     "output_type": "stream",
     "text": [
      " Volume in drive C is Windows-SSD\n",
      " Volume Serial Number is 88EE-3E94\n",
      "\n",
      " Directory of C:\\Users\\selim\\ws\\python\\jupyter\n",
      "\n",
      "2024-07-15  20:39    <DIR>          .\n",
      "2024-07-14  08:33    <DIR>          ..\n",
      "2024-07-14  08:40    <DIR>          .ipynb_checkpoints\n",
      "2024-07-15  20:38            19ÿ614 FirstNoteBook.ipynb\n",
      "2024-07-15  20:39               196 table.csv\n",
      "2024-07-15  09:57            66ÿ887 table.pdf\n",
      "               3 File(s)         86ÿ697 bytes\n",
      "               3 Dir(s)  45ÿ678ÿ104ÿ576 bytes free\n"
     ]
    }
   ],
   "source": [
    "ls"
   ]
  },
  {
   "cell_type": "markdown",
   "id": "0bf6494e-4a3a-4a02-9860-fe70bfcfba96",
   "metadata": {},
   "source": [
    "## Convert data do Excel-file"
   ]
  },
  {
   "cell_type": "code",
   "execution_count": 39,
   "id": "64813c40-f4c5-4e5e-ba61-7df2b49b6408",
   "metadata": {},
   "outputs": [],
   "source": [
    "df.to_excel(\"table.xlsx\")"
   ]
  },
  {
   "cell_type": "code",
   "execution_count": 40,
   "id": "39209f94-6bbd-4f17-9fd1-e9c793775e30",
   "metadata": {},
   "outputs": [
    {
     "name": "stdout",
     "output_type": "stream",
     "text": [
      " Volume in drive C is Windows-SSD\n",
      " Volume Serial Number is 88EE-3E94\n",
      "\n",
      " Directory of C:\\Users\\selim\\ws\\python\\jupyter\n",
      "\n",
      "2024-07-15  20:41    <DIR>          .\n",
      "2024-07-14  08:33    <DIR>          ..\n",
      "2024-07-14  08:40    <DIR>          .ipynb_checkpoints\n",
      "2024-07-15  20:40            19ÿ236 FirstNoteBook.ipynb\n",
      "2024-07-15  20:39               196 table.csv\n",
      "2024-07-15  09:57            66ÿ887 table.pdf\n",
      "2024-07-15  20:41             5ÿ140 table.xlsx\n",
      "               4 File(s)         91ÿ459 bytes\n",
      "               3 Dir(s)  45ÿ677ÿ887ÿ488 bytes free\n"
     ]
    }
   ],
   "source": [
    "ls"
   ]
  },
  {
   "cell_type": "markdown",
   "id": "02f5bf21-119d-4a9f-b6c1-4f14918b533e",
   "metadata": {},
   "source": [
    "## Read from CSV file"
   ]
  },
  {
   "cell_type": "code",
   "execution_count": 47,
   "id": "f88ec445-64d5-4470-a80d-f0f6db0c9bc4",
   "metadata": {},
   "outputs": [],
   "source": [
    "input_csv = pandas.read_csv(\"table.csv\")"
   ]
  },
  {
   "cell_type": "code",
   "execution_count": 55,
   "id": "89786ba2-bcd7-4b3a-81ff-86ef7ea56fe5",
   "metadata": {},
   "outputs": [
    {
     "data": {
      "text/plain": [
       "pandas.core.frame.DataFrame"
      ]
     },
     "execution_count": 55,
     "metadata": {},
     "output_type": "execute_result"
    }
   ],
   "source": [
    "type(input_csv)"
   ]
  },
  {
   "cell_type": "code",
   "execution_count": 48,
   "id": "af95f118-01ec-455c-97e4-8cf896cd16c4",
   "metadata": {},
   "outputs": [
    {
     "data": {
      "text/html": [
       "<div>\n",
       "<style scoped>\n",
       "    .dataframe tbody tr th:only-of-type {\n",
       "        vertical-align: middle;\n",
       "    }\n",
       "\n",
       "    .dataframe tbody tr th {\n",
       "        vertical-align: top;\n",
       "    }\n",
       "\n",
       "    .dataframe thead th {\n",
       "        text-align: right;\n",
       "    }\n",
       "</style>\n",
       "<table border=\"1\" class=\"dataframe\">\n",
       "  <thead>\n",
       "    <tr style=\"text-align: right;\">\n",
       "      <th></th>\n",
       "      <th>Unnamed: 0</th>\n",
       "      <th>Disability Category</th>\n",
       "      <th>Participants</th>\n",
       "      <th>Ballots Completed</th>\n",
       "      <th>Ballots Incomplete</th>\n",
       "      <th>Accuracy</th>\n",
       "      <th>Time to Complete</th>\n",
       "    </tr>\n",
       "  </thead>\n",
       "  <tbody>\n",
       "    <tr>\n",
       "      <th>0</th>\n",
       "      <td>0</td>\n",
       "      <td>Dexterity</td>\n",
       "      <td>5</td>\n",
       "      <td>4</td>\n",
       "      <td>1</td>\n",
       "      <td>98.3%, n=4</td>\n",
       "      <td>1672.1 sec, n=4</td>\n",
       "    </tr>\n",
       "    <tr>\n",
       "      <th>1</th>\n",
       "      <td>1</td>\n",
       "      <td>Mobility</td>\n",
       "      <td>3</td>\n",
       "      <td>3</td>\n",
       "      <td>0</td>\n",
       "      <td>95.4%, n=3</td>\n",
       "      <td>1416 sec, n=3</td>\n",
       "    </tr>\n",
       "  </tbody>\n",
       "</table>\n",
       "</div>"
      ],
      "text/plain": [
       "   Unnamed: 0 Disability Category   Participants  Ballots Completed  \\\n",
       "0           0           Dexterity              5                  4   \n",
       "1           1            Mobility              3                  3   \n",
       "\n",
       "   Ballots Incomplete    Accuracy Time to Complete  \n",
       "0                   1  98.3%, n=4  1672.1 sec, n=4  \n",
       "1                   0  95.4%, n=3    1416 sec, n=3  "
      ]
     },
     "execution_count": 48,
     "metadata": {},
     "output_type": "execute_result"
    }
   ],
   "source": [
    "input_csv"
   ]
  },
  {
   "cell_type": "markdown",
   "id": "bbd3805c-3d9b-44bd-923c-b399f0ad3bce",
   "metadata": {},
   "source": [
    "## Visualize data with barchart"
   ]
  },
  {
   "cell_type": "code",
   "execution_count": 61,
   "id": "72af422b-87da-4098-95f1-47091bb3224e",
   "metadata": {},
   "outputs": [
    {
     "data": {
      "text/plain": [
       "<Axes: xlabel='Disability Category', ylabel='Ballots Completed'>"
      ]
     },
     "execution_count": 61,
     "metadata": {},
     "output_type": "execute_result"
    },
    {
     "data": {
      "image/png": "[encoded data removed]",
      "text/plain": [
       "<Figure size 640x480 with 1 Axes>"
      ]
     },
     "metadata": {},
     "output_type": "display_data"
    }
   ],
   "source": [
    "seaborn.barplot(x = \"Disability Category\", y = \"Ballots Completed\", data = input_csv)"
   ]
  },
  {
   "cell_type": "code",
   "execution_count": null,
   "id": "b3691c49-ff1d-4910-a6d0-c96058140789",
   "metadata": {},
   "outputs": [],
   "source": []
  }
 ],
 "metadata": {
  "kernelspec": {
   "display_name": "Python 3 (ipykernel)",
   "language": "python",
   "name": "python3"
  },
  "language_info": {
   "codemirror_mode": {
    "name": "ipython",
    "version": 3
   },
   "file_extension": ".py",
   "mimetype": "text/x-python",
   "name": "python",
   "nbconvert_exporter": "python",
   "pygments_lexer": "ipython3",
   "version": "3.12.1"
  }
 },
 "nbformat": 4,
 "nbformat_minor": 5
}
